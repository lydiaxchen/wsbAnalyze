{
 "cells": [
  {
   "cell_type": "code",
   "execution_count": 1,
   "metadata": {},
   "outputs": [],
   "source": [
    "import pandas as pd\n",
    "import re\n",
    "import requests\n",
    "import praw    #to access reddit data\n",
    "from praw.models import MoreComments"
   ]
  },
  {
   "cell_type": "code",
   "execution_count": 2,
   "metadata": {
    "scrolled": true
   },
   "outputs": [
    {
     "data": {
      "text/plain": [
       "<Response [200]>"
      ]
     },
     "execution_count": 2,
     "metadata": {},
     "output_type": "execute_result"
    }
   ],
   "source": [
    "requests.get('https://www.reddit.com/r/wallstreetbets/new/', headers = {'User-agent': 'your bot 0.1'})"
   ]
  },
  {
   "cell_type": "code",
   "execution_count": 3,
   "metadata": {},
   "outputs": [],
   "source": [
    "reddit = praw.Reddit(\n",
    "  client_id = \"Your client_id\",\n",
    "  client_secret = \"Your client_secret\",\n",
    "  user_agent = \"Comment Extraction (by u/user name)\"\n",
    ")"
   ]
  },
  {
   "cell_type": "code",
   "execution_count": 4,
   "metadata": {},
   "outputs": [],
   "source": [
    "subreddit = reddit.subreddit('wallstreetbets')"
   ]
  },
  {
   "cell_type": "code",
   "execution_count": 5,
   "metadata": {},
   "outputs": [],
   "source": [
    "ticker_df = pd.read_csv('nasdaq_screener.csv').rename(columns = {'Symbol': 'Term', 'Name': 'Company_Name'})\n",
    "#ticker_df"
   ]
  },
  {
   "cell_type": "code",
   "execution_count": 6,
   "metadata": {},
   "outputs": [],
   "source": [
    "ticker_list = ticker_df['Term'].tolist()\n",
    "ticker_list_lite = ['SPY', 'GME', 'AMC', 'SPCE', 'BABA', 'AMD', 'AMZN', 'SOFI', 'TSLA', 'WKHS', \n",
    "                    'CLOV', 'CLNE', 'JD', 'IQ', 'BB', 'WISH', 'WEN', 'NIO', 'CRSR', 'NLY',\n",
    "                    'FOMO', 'QQQ', 'AAPL', 'TTCF', 'FUBO', 'NVDA', 'CLF']"
   ]
  },
  {
   "cell_type": "markdown",
   "metadata": {},
   "source": [
    "Method 1"
   ]
  },
  {
   "cell_type": "code",
   "execution_count": 7,
   "metadata": {},
   "outputs": [],
   "source": [
    "import nltk\n",
    "from nltk.sentiment.vader import SentimentIntensityAnalyzer"
   ]
  },
  {
   "cell_type": "code",
   "execution_count": 8,
   "metadata": {},
   "outputs": [],
   "source": [
    "all_tickers = {}\n",
    "hot_tickers = {}\n",
    "\n",
    "for i in range (0, len(ticker_list)):\n",
    "    ticker = ticker_list[i]\n",
    "    all_tickers[ticker] = 1\n",
    "# all_tickers"
   ]
  },
  {
   "cell_type": "code",
   "execution_count": 9,
   "metadata": {},
   "outputs": [],
   "source": [
    "regexPattern = r'\\b([A-Z]+)\\b'\n",
    "\n",
    "sentimental_score = {}\n",
    "final_1 = {}"
   ]
  },
  {
   "cell_type": "code",
   "execution_count": 10,
   "metadata": {},
   "outputs": [],
   "source": [
    "# nltk.download('vader_lexicon')"
   ]
  },
  {
   "cell_type": "code",
   "execution_count": 11,
   "metadata": {},
   "outputs": [],
   "source": [
    "vader = SentimentIntensityAnalyzer()"
   ]
  },
  {
   "cell_type": "code",
   "execution_count": 12,
   "metadata": {},
   "outputs": [],
   "source": [
    "for submission in subreddit.top('day'):\n",
    "    strings = [submission.title]\n",
    "    submission.comments.replace_more(limit = 0)\n",
    "    for comment in submission.comments.list():\n",
    "        strings.append(comment.body)\n",
    "#        break\n",
    "    for s in strings:\n",
    "        for phrase in re.findall(regexPattern, s):\n",
    "            if phrase in all_tickers:\n",
    "                score1 = vader.polarity_scores(s)\n",
    "#                 print(score1)\n",
    "                if phrase not in sentimental_score:\n",
    "                    sentimental_score[phrase] = score1\n",
    "                else:\n",
    "                    for key,_ in score1.items():\n",
    "                        sentimental_score[phrase][key] += score1[key]\n",
    "#         break\n",
    "                if phrase not in hot_tickers:\n",
    "                    hot_tickers[phrase] = 1\n",
    "                else:\n",
    "                    hot_tickers[phrase] += 1\n",
    "        tickers1 = list(sentimental_score)\n",
    "        for ticker1 in tickers1:\n",
    "            final_1[ticker1] = sentimental_score[ticker1]['compound']\n",
    "#     break"
   ]
  },
  {
   "cell_type": "code",
   "execution_count": 13,
   "metadata": {},
   "outputs": [
    {
     "data": {
      "text/plain": [
       "{'DD': 10.1228,\n",
       " 'F': 1.7602000000000002,\n",
       " 'U': -0.5876999999999999,\n",
       " 'EXP': 0.0,\n",
       " 'SENS': 0.0,\n",
       " 'D': 6.6932,\n",
       " 'PROS': -0.4466,\n",
       " 'YOU': -2.1176,\n",
       " 'ON': -0.4466,\n",
       " 'FOR': -0.4466,\n",
       " 'NEXT': -0.4466,\n",
       " 'ARE': -1.3096999999999999,\n",
       " 'JOBS': -0.4466,\n",
       " 'SAM': -0.5423,\n",
       " 'IRS': -1.3133,\n",
       " 'RH': -0.9683000000000003,\n",
       " 'LMAO': 0.8789,\n",
       " 'PLTR': 4.9261,\n",
       " 'A': 8.439300000000001,\n",
       " 'IT': -0.033100000000000004,\n",
       " 'ATH': 0.5234,\n",
       " 'GME': 9.632199999999997,\n",
       " 'AMD': 10.174900000000001,\n",
       " 'C': 3.0509,\n",
       " 'RIDE': 0.1487,\n",
       " 'MCD': 0.4939,\n",
       " 'IS': 0.0,\n",
       " 'HOG': 1.3135000000000001,\n",
       " 'DNUT': 0.34,\n",
       " 'T': -0.7248000000000001,\n",
       " 'BOOM': 0.0,\n",
       " 'SNDL': 2.5476,\n",
       " 'MAT': 0.0,\n",
       " 'AMC': 10.714699999999999,\n",
       " 'SOFI': -0.7959,\n",
       " 'W': 0.0,\n",
       " 'O': 1.1925,\n",
       " 'HAS': 0.0,\n",
       " 'SO': 0.0,\n",
       " 'BB': 1.8048999999999995,\n",
       " 'BNR': 0.0,\n",
       " 'PULM': 0.2263,\n",
       " 'Z': 0.0,\n",
       " 'AAPL': 0.0,\n",
       " 'B': 4.445500000000001,\n",
       " 'TX': 0.0,\n",
       " 'MSFT': 0.1179,\n",
       " 'OG': -0.22349999999999998,\n",
       " 'MU': 2.1197,\n",
       " 'TSLA': 0.8846999999999999,\n",
       " 'SPCE': 4.4815,\n",
       " 'NVDA': 1.975,\n",
       " 'BYND': 0.0434,\n",
       " 'GO': 0.9863,\n",
       " 'ALLY': -0.3197,\n",
       " 'VTIQ': 0.44630000000000003,\n",
       " 'PRT': 0.0,\n",
       " 'J': -0.3818,\n",
       " 'RE': -0.4404,\n",
       " 'G': 0.2288000000000001,\n",
       " 'TOPS': -0.2834,\n",
       " 'CLOV': 11.9255,\n",
       " 'GOLD': 0.0,\n",
       " 'X': -0.5399,\n",
       " 'ABT': 0.6705,\n",
       " 'S': 2.8695999999999997,\n",
       " 'TD': 0.7155,\n",
       " 'IBKR': 0.7155,\n",
       " 'AI': -0.36429999999999996,\n",
       " 'WISH': 11.052100000000003,\n",
       " 'CIA': -0.4767,\n",
       " 'CAT': 0.7506,\n",
       " 'BNGO': 0.0,\n",
       " 'WKHS': -0.04769999999999999,\n",
       " 'AGE': 0.4545,\n",
       " 'MSM': 0.6599,\n",
       " 'IP': -0.6488,\n",
       " 'CLF': 6.813100000000001,\n",
       " 'RIG': 0.5613,\n",
       " 'L': -0.5859,\n",
       " 'HRC': 2.4845,\n",
       " 'HUGE': 0.5319,\n",
       " 'MT': 0.17379999999999995,\n",
       " 'PT': 0.0,\n",
       " 'FCX': -0.9022,\n",
       " 'CC': 0.5106,\n",
       " 'EDIT': 0.9698,\n",
       " 'ES': 0.872,\n",
       " 'BIG': 0.7096,\n",
       " 'FOMO': -0.6486,\n",
       " 'FDS': -0.471,\n",
       " 'IMO': 1.9590999999999998,\n",
       " 'LOVE': 1.3156,\n",
       " 'SQ': 0.5994,\n",
       " 'FLY': 0.4955,\n",
       " 'LADR': 0.7579,\n",
       " 'GOOG': -1.1988,\n",
       " 'USA': 1.0763,\n",
       " 'NOW': -0.5434,\n",
       " 'CLNE': 0.572,\n",
       " 'EOD': -0.296,\n",
       " 'RSI': 1.5125000000000002,\n",
       " 'MMAT': 0.02760000000000007,\n",
       " 'XPEV': 1.8958,\n",
       " 'ET': 0.522,\n",
       " 'CUK': 0.0,\n",
       " 'SIC': 0.5319,\n",
       " 'SI': 0.8719,\n",
       " 'TA': 0.3612,\n",
       " 'SP': 0.836,\n",
       " 'UK': 0.4404,\n",
       " 'ME': -0.0022999999999999687,\n",
       " 'SBUX': -2.2148,\n",
       " 'GM': -0.3847,\n",
       " 'DM': -0.5535000000000001,\n",
       " 'EVER': -0.4019,\n",
       " 'DPZ': 0.4215,\n",
       " 'DDS': 0.4404,\n",
       " 'SB': 2.1508,\n",
       " 'CMG': 0.0,\n",
       " 'BC': 0.0,\n",
       " 'CI': 0.8442,\n",
       " 'FUBO': 0.8748,\n",
       " 'TECH': 0.8748,\n",
       " 'Y': -0.7184,\n",
       " 'XLNX': 0.9808,\n",
       " 'LL': 0.0,\n",
       " 'JOB': 0.0,\n",
       " 'WORK': 0.0,\n",
       " 'R': 2.5223,\n",
       " 'MIT': 0.9875,\n",
       " 'AMZN': 0.93,\n",
       " 'CMA': 0.93,\n",
       " 'ANY': 0.0243,\n",
       " 'MRIN': 0.9432,\n",
       " 'NIO': 0.9432,\n",
       " 'GAIN': 1.8586,\n",
       " 'WELL': 1.2379,\n",
       " 'CMC': 0.9376,\n",
       " 'SIM': 0.3612,\n",
       " 'JP': 0.5622,\n",
       " 'APD': 0.0,\n",
       " 'CRWD': 1.7564,\n",
       " 'CAN': -0.8781,\n",
       " 'VERY': 0.296,\n",
       " 'MD': 0.3182,\n",
       " 'EDR': 0.7906,\n",
       " 'CVE': 0.3885,\n",
       " 'LSPD': 0.3885,\n",
       " 'SHOP': 0.3885,\n",
       " 'DCBO': 0.3885,\n",
       " 'CSU': 0.3885,\n",
       " 'LEV': 0.4767,\n",
       " 'DB': 0.0,\n",
       " 'CCJ': 0.0,\n",
       " 'PBA': 0.0,\n",
       " 'FL': 0.2732,\n",
       " 'V': 0.2732,\n",
       " 'CTS': 0.0,\n",
       " 'AC': 0.3818,\n",
       " 'UWMC': -0.8048,\n",
       " 'NNDM': -0.9116999999999998,\n",
       " 'GL': 0.5473,\n",
       " 'MNMD': 0.0,\n",
       " 'CASH': 0.8897,\n",
       " 'NCLH': 1.3227,\n",
       " 'CCL': 0.8225,\n",
       " 'RCL': 0.0,\n",
       " 'DCF': 0.6858,\n",
       " 'DAL': 0.7264,\n",
       " 'COIN': -1.2639,\n",
       " 'IRL': -0.9456,\n",
       " 'DIDI': 0.8591,\n",
       " 'LIFE': 0.0,\n",
       " 'SON': -0.7027,\n",
       " 'NES': -0.1511,\n",
       " 'SNES': -0.1511,\n",
       " 'NKLA': -0.25,\n",
       " 'WTI': 0.4019,\n",
       " 'SLB': 0.4019,\n",
       " 'HAL': 0.4019,\n",
       " 'TIL': 0.0,\n",
       " 'CGC': 0.886,\n",
       " 'TLRY': 0.0,\n",
       " 'SMG': 0.0,\n",
       " 'MAPS': 0.0,\n",
       " 'NEGG': 0.0258,\n",
       " 'QS': 2.8859}"
      ]
     },
     "execution_count": 13,
     "metadata": {},
     "output_type": "execute_result"
    }
   ],
   "source": [
    "# sentimental_score\n",
    "final_1"
   ]
  },
  {
   "cell_type": "code",
   "execution_count": 14,
   "metadata": {},
   "outputs": [
    {
     "data": {
      "text/plain": [
       "GME     98\n",
       "AMC     90\n",
       "DD      79\n",
       "AMD     63\n",
       "CLOV    58\n",
       "A       49\n",
       "WISH    29\n",
       "BB      27\n",
       "CLF     26\n",
       "RH      21\n",
       "dtype: int64"
      ]
     },
     "execution_count": 14,
     "metadata": {},
     "output_type": "execute_result"
    }
   ],
   "source": [
    "series = pd.Series(hot_tickers).sort_values(ascending = False)\n",
    "series[:10]"
   ]
  },
  {
   "cell_type": "code",
   "execution_count": 15,
   "metadata": {},
   "outputs": [
    {
     "data": {
      "text/html": [
       "<div>\n",
       "<style scoped>\n",
       "    .dataframe tbody tr th:only-of-type {\n",
       "        vertical-align: middle;\n",
       "    }\n",
       "\n",
       "    .dataframe tbody tr th {\n",
       "        vertical-align: top;\n",
       "    }\n",
       "\n",
       "    .dataframe thead th {\n",
       "        text-align: right;\n",
       "    }\n",
       "</style>\n",
       "<table border=\"1\" class=\"dataframe\">\n",
       "  <thead>\n",
       "    <tr style=\"text-align: right;\">\n",
       "      <th></th>\n",
       "      <th>0</th>\n",
       "    </tr>\n",
       "  </thead>\n",
       "  <tbody>\n",
       "    <tr>\n",
       "      <th>GME</th>\n",
       "      <td>9.6322</td>\n",
       "    </tr>\n",
       "    <tr>\n",
       "      <th>AMC</th>\n",
       "      <td>10.7147</td>\n",
       "    </tr>\n",
       "    <tr>\n",
       "      <th>DD</th>\n",
       "      <td>10.1228</td>\n",
       "    </tr>\n",
       "    <tr>\n",
       "      <th>AMD</th>\n",
       "      <td>10.1749</td>\n",
       "    </tr>\n",
       "    <tr>\n",
       "      <th>CLOV</th>\n",
       "      <td>11.9255</td>\n",
       "    </tr>\n",
       "    <tr>\n",
       "      <th>A</th>\n",
       "      <td>8.4393</td>\n",
       "    </tr>\n",
       "    <tr>\n",
       "      <th>WISH</th>\n",
       "      <td>11.0521</td>\n",
       "    </tr>\n",
       "    <tr>\n",
       "      <th>BB</th>\n",
       "      <td>1.8049</td>\n",
       "    </tr>\n",
       "    <tr>\n",
       "      <th>CLF</th>\n",
       "      <td>6.8131</td>\n",
       "    </tr>\n",
       "    <tr>\n",
       "      <th>RH</th>\n",
       "      <td>-0.9683</td>\n",
       "    </tr>\n",
       "  </tbody>\n",
       "</table>\n",
       "</div>"
      ],
      "text/plain": [
       "            0\n",
       "GME    9.6322\n",
       "AMC   10.7147\n",
       "DD    10.1228\n",
       "AMD   10.1749\n",
       "CLOV  11.9255\n",
       "A      8.4393\n",
       "WISH  11.0521\n",
       "BB     1.8049\n",
       "CLF    6.8131\n",
       "RH    -0.9683"
      ]
     },
     "execution_count": 15,
     "metadata": {},
     "output_type": "execute_result"
    }
   ],
   "source": [
    "final_df = pd.DataFrame(pd.Series(final_1)).loc[series[:10].index]\n",
    "final_df"
   ]
  },
  {
   "cell_type": "code",
   "execution_count": 16,
   "metadata": {},
   "outputs": [],
   "source": [
    "final_df['weights'] = final_df[0] / sum(final_df[0]) *100"
   ]
  },
  {
   "cell_type": "code",
   "execution_count": 17,
   "metadata": {},
   "outputs": [
    {
     "data": {
      "text/html": [
       "<div>\n",
       "<style scoped>\n",
       "    .dataframe tbody tr th:only-of-type {\n",
       "        vertical-align: middle;\n",
       "    }\n",
       "\n",
       "    .dataframe tbody tr th {\n",
       "        vertical-align: top;\n",
       "    }\n",
       "\n",
       "    .dataframe thead th {\n",
       "        text-align: right;\n",
       "    }\n",
       "</style>\n",
       "<table border=\"1\" class=\"dataframe\">\n",
       "  <thead>\n",
       "    <tr style=\"text-align: right;\">\n",
       "      <th></th>\n",
       "      <th>0</th>\n",
       "      <th>weights</th>\n",
       "    </tr>\n",
       "  </thead>\n",
       "  <tbody>\n",
       "    <tr>\n",
       "      <th>GME</th>\n",
       "      <td>9.6322</td>\n",
       "      <td>12.083873</td>\n",
       "    </tr>\n",
       "    <tr>\n",
       "      <th>AMC</th>\n",
       "      <td>10.7147</td>\n",
       "      <td>13.441900</td>\n",
       "    </tr>\n",
       "    <tr>\n",
       "      <th>DD</th>\n",
       "      <td>10.1228</td>\n",
       "      <td>12.699345</td>\n",
       "    </tr>\n",
       "    <tr>\n",
       "      <th>AMD</th>\n",
       "      <td>10.1749</td>\n",
       "      <td>12.764706</td>\n",
       "    </tr>\n",
       "    <tr>\n",
       "      <th>CLOV</th>\n",
       "      <td>11.9255</td>\n",
       "      <td>14.960884</td>\n",
       "    </tr>\n",
       "    <tr>\n",
       "      <th>A</th>\n",
       "      <td>8.4393</td>\n",
       "      <td>10.587345</td>\n",
       "    </tr>\n",
       "    <tr>\n",
       "      <th>WISH</th>\n",
       "      <td>11.0521</td>\n",
       "      <td>13.865178</td>\n",
       "    </tr>\n",
       "    <tr>\n",
       "      <th>BB</th>\n",
       "      <td>1.8049</td>\n",
       "      <td>2.264299</td>\n",
       "    </tr>\n",
       "    <tr>\n",
       "      <th>CLF</th>\n",
       "      <td>6.8131</td>\n",
       "      <td>8.547231</td>\n",
       "    </tr>\n",
       "    <tr>\n",
       "      <th>RH</th>\n",
       "      <td>-0.9683</td>\n",
       "      <td>-1.214760</td>\n",
       "    </tr>\n",
       "  </tbody>\n",
       "</table>\n",
       "</div>"
      ],
      "text/plain": [
       "            0    weights\n",
       "GME    9.6322  12.083873\n",
       "AMC   10.7147  13.441900\n",
       "DD    10.1228  12.699345\n",
       "AMD   10.1749  12.764706\n",
       "CLOV  11.9255  14.960884\n",
       "A      8.4393  10.587345\n",
       "WISH  11.0521  13.865178\n",
       "BB     1.8049   2.264299\n",
       "CLF    6.8131   8.547231\n",
       "RH    -0.9683  -1.214760"
      ]
     },
     "execution_count": 17,
     "metadata": {},
     "output_type": "execute_result"
    }
   ],
   "source": [
    "final_df"
   ]
  },
  {
   "cell_type": "markdown",
   "metadata": {},
   "source": [
    "Method 2"
   ]
  },
  {
   "cell_type": "code",
   "execution_count": 18,
   "metadata": {},
   "outputs": [],
   "source": [
    "data_input = subreddit.top('day', limit = 1000)\n",
    "sum = [0] * len(ticker_list_lite) # our output array\n",
    "counttotal = 0 # total number of comment read\n",
    "submissions_counter = 0"
   ]
  },
  {
   "cell_type": "code",
   "execution_count": 19,
   "metadata": {},
   "outputs": [],
   "source": [
    "for submissions in data_input:\n",
    "    \n",
    "  if not submissions.stickied:\n",
    "    \n",
    "    submissions_counter += 1\n",
    "    \n",
    "    if submissions_counter > 5:\n",
    "        \n",
    "      comments = submissions.comments\n",
    "    \n",
    "      for comment in comments:\n",
    "            \n",
    "        if isinstance(comment, MoreComments):\n",
    "            continue\n",
    "            \n",
    "        counttotal += 1\n",
    "        \n",
    "        for i, ticker in enumerate(ticker_list_lite):\n",
    "            \n",
    "          if ticker in comment.body:\n",
    "            \n",
    "            sum[i] += 1"
   ]
  },
  {
   "cell_type": "code",
   "execution_count": 20,
   "metadata": {},
   "outputs": [
    {
     "name": "stdout",
     "output_type": "stream",
     "text": [
      "Total comments read:  874\n",
      "    Tick  Counts\n",
      "1    GME      15\n",
      "2    AMC      13\n",
      "5    AMD      11\n",
      "26   CLF      10\n",
      "21   QQQ       7\n",
      "15  WISH       5\n",
      "14    BB       4\n",
      "0    SPY       4\n",
      "10  CLOV       3\n",
      "3   SPCE       3\n"
     ]
    }
   ],
   "source": [
    "output = pd.DataFrame(data = {'Tick': ticker_list_lite, 'Counts': sum}).sort_values(['Counts'], ascending = False)\n",
    "print('Total comments read: ', counttotal)\n",
    "print(output[output['Counts'] > 0][:10])"
   ]
  },
  {
   "cell_type": "code",
   "execution_count": null,
   "metadata": {},
   "outputs": [],
   "source": []
  }
 ],
 "metadata": {
  "kernelspec": {
   "display_name": "Python 3",
   "language": "python",
   "name": "python3"
  },
  "language_info": {
   "codemirror_mode": {
    "name": "ipython",
    "version": 3
   },
   "file_extension": ".py",
   "mimetype": "text/x-python",
   "name": "python",
   "nbconvert_exporter": "python",
   "pygments_lexer": "ipython3",
   "version": "3.8.5"
  }
 },
 "nbformat": 4,
 "nbformat_minor": 4
}
